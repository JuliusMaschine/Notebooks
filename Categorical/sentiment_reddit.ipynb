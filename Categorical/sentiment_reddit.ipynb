{
 "cells": [
  {
   "cell_type": "code",
   "execution_count": 31,
   "metadata": {},
   "outputs": [
    {
     "name": "stdout",
     "output_type": "stream",
     "text": [
      "['COVID Daily Discussion Thread || Mon 27 December 2021'\n",
      " 'Child under the age of 10 listed as a Covid death.'\n",
      " \"International study on Covid - New Zealand, let's share our point of view!\"]\n"
     ]
    }
   ],
   "source": [
    "import pandas as pd\n",
    "\n",
    "#import the data.xlsx as a dataframe\n",
    "df = pd.read_csv(\"data.csv\")\n",
    "\n",
    "print(df['title'].unique())"
   ]
  },
  {
   "cell_type": "code",
   "execution_count": 32,
   "metadata": {},
   "outputs": [
    {
     "name": "stdout",
     "output_type": "stream",
     "text": [
      "                                                 title  \\\n",
      "0    COVID Daily Discussion Thread || Mon 27 Decemb...   \n",
      "1    COVID Daily Discussion Thread || Mon 27 Decemb...   \n",
      "2    COVID Daily Discussion Thread || Mon 27 Decemb...   \n",
      "3    COVID Daily Discussion Thread || Mon 27 Decemb...   \n",
      "4    COVID Daily Discussion Thread || Mon 27 Decemb...   \n",
      "..                                                 ...   \n",
      "182  International study on Covid - New Zealand, le...   \n",
      "183  International study on Covid - New Zealand, le...   \n",
      "184  International study on Covid - New Zealand, le...   \n",
      "185  International study on Covid - New Zealand, le...   \n",
      "186  International study on Covid - New Zealand, le...   \n",
      "\n",
      "                                                  post  post_score  \\\n",
      "0     Mōrena r/NewZealand.\\n\\nWelcome to the new an...         7.0   \n",
      "1                                                  NaN         NaN   \n",
      "2                                                  NaN         NaN   \n",
      "3                                                  NaN         NaN   \n",
      "4                                                  NaN         NaN   \n",
      "..                                                 ...         ...   \n",
      "182                                                NaN         NaN   \n",
      "183                                                NaN         NaN   \n",
      "184                                                NaN         NaN   \n",
      "185                                                NaN         NaN   \n",
      "186                                                NaN         NaN   \n",
      "\n",
      "                                               comment  comment_score  \n",
      "0                                                  NaN            NaN  \n",
      "1    I just read a testing facility in NSW told 400...           21.0  \n",
      "2    Wondering how big of an explosion there will b...           12.0  \n",
      "3    I’ve been so busy at work just before the holi...           11.0  \n",
      "4    Barely worth the time to update, but here's to...            9.0  \n",
      "..                                                 ...            ...  \n",
      "182  I get why you think youre right and the other ...            0.0  \n",
      "183  I think it’s more about you having such a stro...           -2.0  \n",
      "184  Read again, cure to stop/minimise hospitalisation            0.0  \n",
      "185                                    Like a vaccine?            3.0  \n",
      "186  Well no for the millions who have died that co...            2.0  \n",
      "\n",
      "[187 rows x 5 columns]\n"
     ]
    }
   ],
   "source": [
    "# time to look at all the posts and their scores\n",
    "\n",
    "print(df)"
   ]
  },
  {
   "cell_type": "code",
   "execution_count": 33,
   "metadata": {},
   "outputs": [
    {
     "name": "stdout",
     "output_type": "stream",
     "text": [
      "<class 'pandas.core.frame.DataFrame'>\n",
      "RangeIndex: 187 entries, 0 to 186\n",
      "Data columns (total 5 columns):\n",
      " #   Column         Non-Null Count  Dtype  \n",
      "---  ------         --------------  -----  \n",
      " 0   title          187 non-null    object \n",
      " 1   post           3 non-null      object \n",
      " 2   post_score     3 non-null      float64\n",
      " 3   comment        184 non-null    object \n",
      " 4   comment_score  184 non-null    float64\n",
      "dtypes: float64(2), object(3)\n",
      "memory usage: 7.4+ KB\n",
      "None\n"
     ]
    }
   ],
   "source": [
    "# look at the info\n",
    "print(df.info())"
   ]
  }
 ],
 "metadata": {
  "interpreter": {
   "hash": "e7370f93d1d0cde622a1f8e1c04877d8463912d04d973331ad4851f04de6915a"
  },
  "kernelspec": {
   "display_name": "Python 3.10.1 64-bit",
   "language": "python",
   "name": "python3"
  },
  "language_info": {
   "codemirror_mode": {
    "name": "ipython",
    "version": 3
   },
   "file_extension": ".py",
   "mimetype": "text/x-python",
   "name": "python",
   "nbconvert_exporter": "python",
   "pygments_lexer": "ipython3",
   "version": "3.10.1"
  },
  "orig_nbformat": 4
 },
 "nbformat": 4,
 "nbformat_minor": 2
}
